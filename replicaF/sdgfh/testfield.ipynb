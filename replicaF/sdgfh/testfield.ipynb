{
 "cells": [
  {
   "cell_type": "code",
   "execution_count": 4,
   "metadata": {},
   "outputs": [
    {
     "name": "stdout",
     "output_type": "stream",
     "text": [
      "/media/z19941225110/HDD/有点用的/cccat/ ['cccat邀请码.txt', 'euserv', 'glitch', 'IPV6、xray面板搭建VPS.docx', 'northflank', '自己的cloudflare节点.txt', '订阅.txt']\n",
      "/media/z19941225110/HDD/有点用的/cccat/euserv ['ipv6开通', 'Untitled Document 1']\n",
      "/media/z19941225110/HDD/有点用的/cccat/euserv/ipv6开通 ['2023-11-11_19-36.png', '2023-11-11_19-37.png', '2023-11-11_19-37_1.png', '2023-11-11_19-37_2.png']\n",
      "/media/z19941225110/HDD/有点用的/cccat/glitch ['nodejs-proxy-master', 'nodejs-proxy-master.zip', 'vless_link.txt']\n",
      "/media/z19941225110/HDD/有点用的/cccat/glitch/nodejs-proxy-master ['.gitignore', 'app.js', 'app_edtunnel.js', 'Dockerfile', 'package-lock.json', 'package.json', 'README.md']\n",
      "/media/z19941225110/HDD/有点用的/cccat/northflank ['vless_link.txt']\n"
     ]
    }
   ],
   "source": [
    "\n",
    "import os,sys\n",
    "\n",
    "def lsdir(folder):\n",
    "    contents = os.listdir(folder)\n",
    "    print (folder, contents)\n",
    "    for path in contents:\n",
    "        full_path = os.path.join(folder, path)\n",
    "        if os.path.isdir(full_path):\n",
    "            lsdir(full_path)\n",
    "lsdir('/media/z19941225110/HDD/有点用的/cccat/')"
   ]
  },
  {
   "cell_type": "code",
   "execution_count": 1,
   "metadata": {},
   "outputs": [
    {
     "name": "stdout",
     "output_type": "stream",
     "text": [
      "['/media/z19941225110/HDD/workspace/python', '/usr/lib/python310.zip', '/usr/lib/python3.10', '/usr/lib/python3.10/lib-dynload', '', '/home/z19941225110/.local/lib/python3.10/site-packages', '/usr/local/lib/python3.10/dist-packages', '/usr/lib/python3/dist-packages', '/usr/lib/python3/dist-packages/IPython/extensions', '/home/z19941225110/.ipython']\n",
      "['/media/z19941225110/HDD/workspace/python', '/usr/lib/python310.zip', '/usr/lib/python3.10', '/usr/lib/python3.10/lib-dynload', '', '/home/z19941225110/.local/lib/python3.10/site-packages', '/usr/local/lib/python3.10/dist-packages', '/usr/lib/python3/dist-packages', '/usr/lib/python3/dist-packages/IPython/extensions', '/home/z19941225110/.ipython', './test_task/']\n"
     ]
    }
   ],
   "source": [
    "import sys\n",
    "print(sys.path)\n",
    "sys.path.append('./test_task/')\n",
    "print(sys.path)"
   ]
  },
  {
   "cell_type": "code",
   "execution_count": 6,
   "metadata": {},
   "outputs": [
    {
     "name": "stdout",
     "output_type": "stream",
     "text": [
      "./ ['.vscode'] ['hello_flask.ipynb', 'testfield.ipynb', 'testfield2.ipynb']\n",
      "./.vscode [] ['settings.json']\n"
     ]
    }
   ],
   "source": [
    "\n",
    "import os,sys\n",
    "\n",
    "def lsdir(folder):\n",
    "   contents = os.walk(folder)\n",
    "   for path, folder, file in contents:\n",
    "       print(path, folder, file)\n",
    "lsdir('./')"
   ]
  },
  {
   "cell_type": "code",
   "execution_count": 2,
   "metadata": {},
   "outputs": [
    {
     "name": "stdout",
     "output_type": "stream",
     "text": [
      "/home/./User/Desktop/file.txt\n",
      "/home/file.txt\n"
     ]
    }
   ],
   "source": [
    "\n",
    "# importing os module \n",
    "import os\n",
    " \n",
    "# Path\n",
    "path = \"/home\"\n",
    " \n",
    "# Join various path components \n",
    "print(os.path.join(path, \"./User/Desktop\", \"file.txt\"))\n",
    " \n",
    " \n",
    "# Path\n",
    "path = \"User/Documents\"\n",
    " \n",
    "# Join various path components \n",
    "print(os.path.join(path, \"/home\", \"file.txt\"))"
   ]
  },
  {
   "cell_type": "code",
   "execution_count": 11,
   "metadata": {},
   "outputs": [
    {
     "data": {
      "text/plain": [
       "'543cd35ffafcb2646b13ac6edd9604de'"
      ]
     },
     "execution_count": 11,
     "metadata": {},
     "output_type": "execute_result"
    }
   ],
   "source": [
    "\n",
    "import hashlib\n",
    "import sys\n",
    "\n",
    "def md5(fname):\n",
    "    m = hashlib.md5()\n",
    "    with open(fname) as fobj:\n",
    "        while True:\n",
    "            data = fobj.read(4096)\n",
    "            if not data:\n",
    "                break\n",
    "            m.update(data.encode('utf-8'))\n",
    "    return m.hexdigest()\n",
    "md5('./hello_flask.ipynb')    "
   ]
  },
  {
   "cell_type": "code",
   "execution_count": null,
   "metadata": {},
   "outputs": [],
   "source": [
    "#!/usr/bin/env python\n",
    "#coding:utf8\n",
    "\n",
    "import time\n",
    "import os\n",
    "import tarfile\n",
    "import cPickle as p\n",
    "import hashlib\n",
    "\n",
    "\n",
    "def md5check(fname):\n",
    "    m = hashlib.md5()\n",
    "    with open(fname) as fobj:\n",
    "        while True:\n",
    "            data = fobj.read(4096)\n",
    "            if not data:\n",
    "                break\n",
    "            m.update(data)\n",
    "    return m.hexdigest()\n",
    "\n",
    "\n",
    "def full_backup(src_dir, dst_dir, md5file):\n",
    "    par_dir, base_dir = os.path.split(src_dir.rstrip('/'))\n",
    "    back_name = '%s_full_%s.tar.gz' % (base_dir, time.strftime('%Y%m%d'))\n",
    "    full_name = os.path.join(dst_dir, back_name)\n",
    "    md5dict = {}\n",
    "\n",
    "    tar = tarfile.open(full_name, 'w:gz')\n",
    "    tar.add(src_dir)\n",
    "    tar.close()\n",
    "    for path, folders, files in os.walk(src_dir):\n",
    "        for fname in files:\n",
    "            full_path = os.path.join(path, fname)\n",
    "            md5dict[full_path] = md5check(full_path)\n",
    "\n",
    "    with open(md5file, 'w') as fobj:\n",
    "        p.dump(md5dict, fobj)\n",
    "\n",
    "\n",
    "\n",
    "def incr_backup(src_dir, dst_dir, md5file):\n",
    "    par_dir, base_dir = os.path.split(src_dir.rstrip('/'))\n",
    "    back_name = '%s_incr_%s.tar.gz' % (base_dir, time.strftime('%Y%m%d'))\n",
    "    full_name = os.path.join(dst_dir, back_name)\n",
    "    md5new = {}\n",
    "\n",
    "    for path, folders, files in os.walk(src_dir):\n",
    "        for fname in files:\n",
    "            full_path = os.path.join(path, fname)\n",
    "            md5new[full_path] = md5check(full_path)\n",
    "\n",
    "    with open(md5file) as fobj:\n",
    "        md5old = p.load(fobj)\n",
    "    \n",
    "    with open(md5file, 'w') as fobj:\n",
    "        p.dump(md5new, fobj)\n",
    "\n",
    "    tar = tarfile.open(full_name, 'w:gz')\n",
    "    for key in md5new:\n",
    "        if md5old.get(key) != md5new[key]:\n",
    "            tar.add(key)\n",
    "    tar.close()\n",
    "\n",
    "\n",
    "if __name__ == '__main__':\n",
    "    src_dir = '/Users/xkops/gxb/'\n",
    "    dst_dir = '/tmp/'\n",
    "    md5file = '/Users/xkops/md5.data'\n",
    "    if time.strftime('%a') == 'Mon':\n",
    "        full_backup(src_dir, dst_dir, md5file)\n",
    "    else:\n",
    "        incr_backup(src_dir, dst_dir, md5file)\n",
    "\n"
   ]
  },
  {
   "cell_type": "code",
   "execution_count": 4,
   "metadata": {},
   "outputs": [
    {
     "name": "stdout",
     "output_type": "stream",
     "text": [
      "Current Directory /media/z19941225110/HDD/workspace/python/testfield.ipynb\n",
      "/media/z19941225110/HDD/workspace/python\n",
      "<class 'str'>\n"
     ]
    }
   ],
   "source": [
    "\n",
    "# Python program to get parent\n",
    "# directory \n",
    " \n",
    " \n",
    "import os\n",
    " \n",
    "# get current directory\n",
    "path = os.getcwd()\n",
    "path=os.path.join(path,'testfield.ipynb')\n",
    "print(\"Current Directory\", path)\n",
    "\n",
    "# prints parent directory\n",
    "print(os.path.abspath(os.path.join(path, os.pardir)))\n",
    "print(type(os.pardir))\n"
   ]
  }
 ],
 "metadata": {
  "interpreter": {
   "hash": "520b982661521c4753de751d9da18d30583a2740b7761e55d4f1d96103c3facc"
  },
  "kernelspec": {
   "display_name": "Python 3.8.5 ('base')",
   "language": "python",
   "name": "python3"
  },
  "language_info": {
   "codemirror_mode": {
    "name": "ipython",
    "version": 3
   },
   "file_extension": ".py",
   "mimetype": "text/x-python",
   "name": "python",
   "nbconvert_exporter": "python",
   "pygments_lexer": "ipython3",
   "version": "3.10.12"
  },
  "orig_nbformat": 4
 },
 "nbformat": 4,
 "nbformat_minor": 2
}
